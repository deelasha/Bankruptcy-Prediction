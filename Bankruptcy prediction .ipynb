{
 "cells": [
  {
   "cell_type": "code",
   "execution_count": 2,
   "id": "8cffb8fc",
   "metadata": {},
   "outputs": [],
   "source": [
    "import numpy as np\n",
    "import pandas as pd \n",
    "import matplotlib.pyplot as plt\n",
    "import seaborn as sns"
   ]
  },
  {
   "cell_type": "code",
   "execution_count": 3,
   "id": "667cedb3",
   "metadata": {},
   "outputs": [],
   "source": [
    "data = pd.read_csv(r'E:\\data.csv')"
   ]
  },
  {
   "cell_type": "code",
   "execution_count": 4,
   "id": "f43fc1eb",
   "metadata": {},
   "outputs": [
    {
     "data": {
      "text/html": [
       "<div>\n",
       "<style scoped>\n",
       "    .dataframe tbody tr th:only-of-type {\n",
       "        vertical-align: middle;\n",
       "    }\n",
       "\n",
       "    .dataframe tbody tr th {\n",
       "        vertical-align: top;\n",
       "    }\n",
       "\n",
       "    .dataframe thead th {\n",
       "        text-align: right;\n",
       "    }\n",
       "</style>\n",
       "<table border=\"1\" class=\"dataframe\">\n",
       "  <thead>\n",
       "    <tr style=\"text-align: right;\">\n",
       "      <th></th>\n",
       "      <th>Bankrupt?</th>\n",
       "      <th>ROA(C) before interest and depreciation before interest</th>\n",
       "      <th>ROA(A) before interest and % after tax</th>\n",
       "      <th>ROA(B) before interest and depreciation after tax</th>\n",
       "      <th>Operating Gross Margin</th>\n",
       "      <th>Realized Sales Gross Margin</th>\n",
       "      <th>Operating Profit Rate</th>\n",
       "      <th>Pre-tax net Interest Rate</th>\n",
       "      <th>After-tax net Interest Rate</th>\n",
       "      <th>Non-industry income and expenditure/revenue</th>\n",
       "      <th>...</th>\n",
       "      <th>Net Income to Total Assets</th>\n",
       "      <th>Total assets to GNP price</th>\n",
       "      <th>No-credit Interval</th>\n",
       "      <th>Gross Profit to Sales</th>\n",
       "      <th>Net Income to Stockholder's Equity</th>\n",
       "      <th>Liability to Equity</th>\n",
       "      <th>Degree of Financial Leverage (DFL)</th>\n",
       "      <th>Interest Coverage Ratio (Interest expense to EBIT)</th>\n",
       "      <th>Net Income Flag</th>\n",
       "      <th>Equity to Liability</th>\n",
       "    </tr>\n",
       "  </thead>\n",
       "  <tbody>\n",
       "    <tr>\n",
       "      <th>0</th>\n",
       "      <td>1</td>\n",
       "      <td>0.370594</td>\n",
       "      <td>0.424389</td>\n",
       "      <td>0.405750</td>\n",
       "      <td>0.601457</td>\n",
       "      <td>0.601457</td>\n",
       "      <td>0.998969</td>\n",
       "      <td>0.796887</td>\n",
       "      <td>0.808809</td>\n",
       "      <td>0.302646</td>\n",
       "      <td>...</td>\n",
       "      <td>0.716845</td>\n",
       "      <td>0.009219</td>\n",
       "      <td>0.622879</td>\n",
       "      <td>0.601453</td>\n",
       "      <td>0.827890</td>\n",
       "      <td>0.290202</td>\n",
       "      <td>0.026601</td>\n",
       "      <td>0.564050</td>\n",
       "      <td>1</td>\n",
       "      <td>0.016469</td>\n",
       "    </tr>\n",
       "    <tr>\n",
       "      <th>1</th>\n",
       "      <td>1</td>\n",
       "      <td>0.464291</td>\n",
       "      <td>0.538214</td>\n",
       "      <td>0.516730</td>\n",
       "      <td>0.610235</td>\n",
       "      <td>0.610235</td>\n",
       "      <td>0.998946</td>\n",
       "      <td>0.797380</td>\n",
       "      <td>0.809301</td>\n",
       "      <td>0.303556</td>\n",
       "      <td>...</td>\n",
       "      <td>0.795297</td>\n",
       "      <td>0.008323</td>\n",
       "      <td>0.623652</td>\n",
       "      <td>0.610237</td>\n",
       "      <td>0.839969</td>\n",
       "      <td>0.283846</td>\n",
       "      <td>0.264577</td>\n",
       "      <td>0.570175</td>\n",
       "      <td>1</td>\n",
       "      <td>0.020794</td>\n",
       "    </tr>\n",
       "    <tr>\n",
       "      <th>2</th>\n",
       "      <td>1</td>\n",
       "      <td>0.426071</td>\n",
       "      <td>0.499019</td>\n",
       "      <td>0.472295</td>\n",
       "      <td>0.601450</td>\n",
       "      <td>0.601364</td>\n",
       "      <td>0.998857</td>\n",
       "      <td>0.796403</td>\n",
       "      <td>0.808388</td>\n",
       "      <td>0.302035</td>\n",
       "      <td>...</td>\n",
       "      <td>0.774670</td>\n",
       "      <td>0.040003</td>\n",
       "      <td>0.623841</td>\n",
       "      <td>0.601449</td>\n",
       "      <td>0.836774</td>\n",
       "      <td>0.290189</td>\n",
       "      <td>0.026555</td>\n",
       "      <td>0.563706</td>\n",
       "      <td>1</td>\n",
       "      <td>0.016474</td>\n",
       "    </tr>\n",
       "    <tr>\n",
       "      <th>3</th>\n",
       "      <td>1</td>\n",
       "      <td>0.399844</td>\n",
       "      <td>0.451265</td>\n",
       "      <td>0.457733</td>\n",
       "      <td>0.583541</td>\n",
       "      <td>0.583541</td>\n",
       "      <td>0.998700</td>\n",
       "      <td>0.796967</td>\n",
       "      <td>0.808966</td>\n",
       "      <td>0.303350</td>\n",
       "      <td>...</td>\n",
       "      <td>0.739555</td>\n",
       "      <td>0.003252</td>\n",
       "      <td>0.622929</td>\n",
       "      <td>0.583538</td>\n",
       "      <td>0.834697</td>\n",
       "      <td>0.281721</td>\n",
       "      <td>0.026697</td>\n",
       "      <td>0.564663</td>\n",
       "      <td>1</td>\n",
       "      <td>0.023982</td>\n",
       "    </tr>\n",
       "    <tr>\n",
       "      <th>4</th>\n",
       "      <td>1</td>\n",
       "      <td>0.465022</td>\n",
       "      <td>0.538432</td>\n",
       "      <td>0.522298</td>\n",
       "      <td>0.598783</td>\n",
       "      <td>0.598783</td>\n",
       "      <td>0.998973</td>\n",
       "      <td>0.797366</td>\n",
       "      <td>0.809304</td>\n",
       "      <td>0.303475</td>\n",
       "      <td>...</td>\n",
       "      <td>0.795016</td>\n",
       "      <td>0.003878</td>\n",
       "      <td>0.623521</td>\n",
       "      <td>0.598782</td>\n",
       "      <td>0.839973</td>\n",
       "      <td>0.278514</td>\n",
       "      <td>0.024752</td>\n",
       "      <td>0.575617</td>\n",
       "      <td>1</td>\n",
       "      <td>0.035490</td>\n",
       "    </tr>\n",
       "    <tr>\n",
       "      <th>...</th>\n",
       "      <td>...</td>\n",
       "      <td>...</td>\n",
       "      <td>...</td>\n",
       "      <td>...</td>\n",
       "      <td>...</td>\n",
       "      <td>...</td>\n",
       "      <td>...</td>\n",
       "      <td>...</td>\n",
       "      <td>...</td>\n",
       "      <td>...</td>\n",
       "      <td>...</td>\n",
       "      <td>...</td>\n",
       "      <td>...</td>\n",
       "      <td>...</td>\n",
       "      <td>...</td>\n",
       "      <td>...</td>\n",
       "      <td>...</td>\n",
       "      <td>...</td>\n",
       "      <td>...</td>\n",
       "      <td>...</td>\n",
       "      <td>...</td>\n",
       "    </tr>\n",
       "    <tr>\n",
       "      <th>6814</th>\n",
       "      <td>0</td>\n",
       "      <td>0.493687</td>\n",
       "      <td>0.539468</td>\n",
       "      <td>0.543230</td>\n",
       "      <td>0.604455</td>\n",
       "      <td>0.604462</td>\n",
       "      <td>0.998992</td>\n",
       "      <td>0.797409</td>\n",
       "      <td>0.809331</td>\n",
       "      <td>0.303510</td>\n",
       "      <td>...</td>\n",
       "      <td>0.799927</td>\n",
       "      <td>0.000466</td>\n",
       "      <td>0.623620</td>\n",
       "      <td>0.604455</td>\n",
       "      <td>0.840359</td>\n",
       "      <td>0.279606</td>\n",
       "      <td>0.027064</td>\n",
       "      <td>0.566193</td>\n",
       "      <td>1</td>\n",
       "      <td>0.029890</td>\n",
       "    </tr>\n",
       "    <tr>\n",
       "      <th>6815</th>\n",
       "      <td>0</td>\n",
       "      <td>0.475162</td>\n",
       "      <td>0.538269</td>\n",
       "      <td>0.524172</td>\n",
       "      <td>0.598308</td>\n",
       "      <td>0.598308</td>\n",
       "      <td>0.998992</td>\n",
       "      <td>0.797414</td>\n",
       "      <td>0.809327</td>\n",
       "      <td>0.303520</td>\n",
       "      <td>...</td>\n",
       "      <td>0.799748</td>\n",
       "      <td>0.001959</td>\n",
       "      <td>0.623931</td>\n",
       "      <td>0.598306</td>\n",
       "      <td>0.840306</td>\n",
       "      <td>0.278132</td>\n",
       "      <td>0.027009</td>\n",
       "      <td>0.566018</td>\n",
       "      <td>1</td>\n",
       "      <td>0.038284</td>\n",
       "    </tr>\n",
       "    <tr>\n",
       "      <th>6816</th>\n",
       "      <td>0</td>\n",
       "      <td>0.472725</td>\n",
       "      <td>0.533744</td>\n",
       "      <td>0.520638</td>\n",
       "      <td>0.610444</td>\n",
       "      <td>0.610213</td>\n",
       "      <td>0.998984</td>\n",
       "      <td>0.797401</td>\n",
       "      <td>0.809317</td>\n",
       "      <td>0.303512</td>\n",
       "      <td>...</td>\n",
       "      <td>0.797778</td>\n",
       "      <td>0.002840</td>\n",
       "      <td>0.624156</td>\n",
       "      <td>0.610441</td>\n",
       "      <td>0.840138</td>\n",
       "      <td>0.275789</td>\n",
       "      <td>0.026791</td>\n",
       "      <td>0.565158</td>\n",
       "      <td>1</td>\n",
       "      <td>0.097649</td>\n",
       "    </tr>\n",
       "    <tr>\n",
       "      <th>6817</th>\n",
       "      <td>0</td>\n",
       "      <td>0.506264</td>\n",
       "      <td>0.559911</td>\n",
       "      <td>0.554045</td>\n",
       "      <td>0.607850</td>\n",
       "      <td>0.607850</td>\n",
       "      <td>0.999074</td>\n",
       "      <td>0.797500</td>\n",
       "      <td>0.809399</td>\n",
       "      <td>0.303498</td>\n",
       "      <td>...</td>\n",
       "      <td>0.811808</td>\n",
       "      <td>0.002837</td>\n",
       "      <td>0.623957</td>\n",
       "      <td>0.607846</td>\n",
       "      <td>0.841084</td>\n",
       "      <td>0.277547</td>\n",
       "      <td>0.026822</td>\n",
       "      <td>0.565302</td>\n",
       "      <td>1</td>\n",
       "      <td>0.044009</td>\n",
       "    </tr>\n",
       "    <tr>\n",
       "      <th>6818</th>\n",
       "      <td>0</td>\n",
       "      <td>0.493053</td>\n",
       "      <td>0.570105</td>\n",
       "      <td>0.549548</td>\n",
       "      <td>0.627409</td>\n",
       "      <td>0.627409</td>\n",
       "      <td>0.998080</td>\n",
       "      <td>0.801987</td>\n",
       "      <td>0.813800</td>\n",
       "      <td>0.313415</td>\n",
       "      <td>...</td>\n",
       "      <td>0.815956</td>\n",
       "      <td>0.000707</td>\n",
       "      <td>0.626680</td>\n",
       "      <td>0.627408</td>\n",
       "      <td>0.841019</td>\n",
       "      <td>0.275114</td>\n",
       "      <td>0.026793</td>\n",
       "      <td>0.565167</td>\n",
       "      <td>1</td>\n",
       "      <td>0.233902</td>\n",
       "    </tr>\n",
       "  </tbody>\n",
       "</table>\n",
       "<p>6819 rows × 96 columns</p>\n",
       "</div>"
      ],
      "text/plain": [
       "      Bankrupt?   ROA(C) before interest and depreciation before interest  \\\n",
       "0             1                                           0.370594          \n",
       "1             1                                           0.464291          \n",
       "2             1                                           0.426071          \n",
       "3             1                                           0.399844          \n",
       "4             1                                           0.465022          \n",
       "...         ...                                                ...          \n",
       "6814          0                                           0.493687          \n",
       "6815          0                                           0.475162          \n",
       "6816          0                                           0.472725          \n",
       "6817          0                                           0.506264          \n",
       "6818          0                                           0.493053          \n",
       "\n",
       "       ROA(A) before interest and % after tax  \\\n",
       "0                                    0.424389   \n",
       "1                                    0.538214   \n",
       "2                                    0.499019   \n",
       "3                                    0.451265   \n",
       "4                                    0.538432   \n",
       "...                                       ...   \n",
       "6814                                 0.539468   \n",
       "6815                                 0.538269   \n",
       "6816                                 0.533744   \n",
       "6817                                 0.559911   \n",
       "6818                                 0.570105   \n",
       "\n",
       "       ROA(B) before interest and depreciation after tax  \\\n",
       "0                                              0.405750    \n",
       "1                                              0.516730    \n",
       "2                                              0.472295    \n",
       "3                                              0.457733    \n",
       "4                                              0.522298    \n",
       "...                                                 ...    \n",
       "6814                                           0.543230    \n",
       "6815                                           0.524172    \n",
       "6816                                           0.520638    \n",
       "6817                                           0.554045    \n",
       "6818                                           0.549548    \n",
       "\n",
       "       Operating Gross Margin   Realized Sales Gross Margin  \\\n",
       "0                    0.601457                      0.601457   \n",
       "1                    0.610235                      0.610235   \n",
       "2                    0.601450                      0.601364   \n",
       "3                    0.583541                      0.583541   \n",
       "4                    0.598783                      0.598783   \n",
       "...                       ...                           ...   \n",
       "6814                 0.604455                      0.604462   \n",
       "6815                 0.598308                      0.598308   \n",
       "6816                 0.610444                      0.610213   \n",
       "6817                 0.607850                      0.607850   \n",
       "6818                 0.627409                      0.627409   \n",
       "\n",
       "       Operating Profit Rate   Pre-tax net Interest Rate  \\\n",
       "0                   0.998969                    0.796887   \n",
       "1                   0.998946                    0.797380   \n",
       "2                   0.998857                    0.796403   \n",
       "3                   0.998700                    0.796967   \n",
       "4                   0.998973                    0.797366   \n",
       "...                      ...                         ...   \n",
       "6814                0.998992                    0.797409   \n",
       "6815                0.998992                    0.797414   \n",
       "6816                0.998984                    0.797401   \n",
       "6817                0.999074                    0.797500   \n",
       "6818                0.998080                    0.801987   \n",
       "\n",
       "       After-tax net Interest Rate  \\\n",
       "0                         0.808809   \n",
       "1                         0.809301   \n",
       "2                         0.808388   \n",
       "3                         0.808966   \n",
       "4                         0.809304   \n",
       "...                            ...   \n",
       "6814                      0.809331   \n",
       "6815                      0.809327   \n",
       "6816                      0.809317   \n",
       "6817                      0.809399   \n",
       "6818                      0.813800   \n",
       "\n",
       "       Non-industry income and expenditure/revenue  ...  \\\n",
       "0                                         0.302646  ...   \n",
       "1                                         0.303556  ...   \n",
       "2                                         0.302035  ...   \n",
       "3                                         0.303350  ...   \n",
       "4                                         0.303475  ...   \n",
       "...                                            ...  ...   \n",
       "6814                                      0.303510  ...   \n",
       "6815                                      0.303520  ...   \n",
       "6816                                      0.303512  ...   \n",
       "6817                                      0.303498  ...   \n",
       "6818                                      0.313415  ...   \n",
       "\n",
       "       Net Income to Total Assets   Total assets to GNP price  \\\n",
       "0                        0.716845                    0.009219   \n",
       "1                        0.795297                    0.008323   \n",
       "2                        0.774670                    0.040003   \n",
       "3                        0.739555                    0.003252   \n",
       "4                        0.795016                    0.003878   \n",
       "...                           ...                         ...   \n",
       "6814                     0.799927                    0.000466   \n",
       "6815                     0.799748                    0.001959   \n",
       "6816                     0.797778                    0.002840   \n",
       "6817                     0.811808                    0.002837   \n",
       "6818                     0.815956                    0.000707   \n",
       "\n",
       "       No-credit Interval   Gross Profit to Sales  \\\n",
       "0                0.622879                0.601453   \n",
       "1                0.623652                0.610237   \n",
       "2                0.623841                0.601449   \n",
       "3                0.622929                0.583538   \n",
       "4                0.623521                0.598782   \n",
       "...                   ...                     ...   \n",
       "6814             0.623620                0.604455   \n",
       "6815             0.623931                0.598306   \n",
       "6816             0.624156                0.610441   \n",
       "6817             0.623957                0.607846   \n",
       "6818             0.626680                0.627408   \n",
       "\n",
       "       Net Income to Stockholder's Equity   Liability to Equity  \\\n",
       "0                                0.827890              0.290202   \n",
       "1                                0.839969              0.283846   \n",
       "2                                0.836774              0.290189   \n",
       "3                                0.834697              0.281721   \n",
       "4                                0.839973              0.278514   \n",
       "...                                   ...                   ...   \n",
       "6814                             0.840359              0.279606   \n",
       "6815                             0.840306              0.278132   \n",
       "6816                             0.840138              0.275789   \n",
       "6817                             0.841084              0.277547   \n",
       "6818                             0.841019              0.275114   \n",
       "\n",
       "       Degree of Financial Leverage (DFL)  \\\n",
       "0                                0.026601   \n",
       "1                                0.264577   \n",
       "2                                0.026555   \n",
       "3                                0.026697   \n",
       "4                                0.024752   \n",
       "...                                   ...   \n",
       "6814                             0.027064   \n",
       "6815                             0.027009   \n",
       "6816                             0.026791   \n",
       "6817                             0.026822   \n",
       "6818                             0.026793   \n",
       "\n",
       "       Interest Coverage Ratio (Interest expense to EBIT)   Net Income Flag  \\\n",
       "0                                              0.564050                   1   \n",
       "1                                              0.570175                   1   \n",
       "2                                              0.563706                   1   \n",
       "3                                              0.564663                   1   \n",
       "4                                              0.575617                   1   \n",
       "...                                                 ...                 ...   \n",
       "6814                                           0.566193                   1   \n",
       "6815                                           0.566018                   1   \n",
       "6816                                           0.565158                   1   \n",
       "6817                                           0.565302                   1   \n",
       "6818                                           0.565167                   1   \n",
       "\n",
       "       Equity to Liability  \n",
       "0                 0.016469  \n",
       "1                 0.020794  \n",
       "2                 0.016474  \n",
       "3                 0.023982  \n",
       "4                 0.035490  \n",
       "...                    ...  \n",
       "6814              0.029890  \n",
       "6815              0.038284  \n",
       "6816              0.097649  \n",
       "6817              0.044009  \n",
       "6818              0.233902  \n",
       "\n",
       "[6819 rows x 96 columns]"
      ]
     },
     "execution_count": 4,
     "metadata": {},
     "output_type": "execute_result"
    }
   ],
   "source": [
    "data"
   ]
  },
  {
   "cell_type": "markdown",
   "id": "9d7ccd2d",
   "metadata": {},
   "source": [
    "Data Inspection"
   ]
  },
  {
   "cell_type": "code",
   "execution_count": 5,
   "id": "74acf1cc",
   "metadata": {},
   "outputs": [
    {
     "data": {
      "text/plain": [
       "(6819, 96)"
      ]
     },
     "execution_count": 5,
     "metadata": {},
     "output_type": "execute_result"
    }
   ],
   "source": [
    "data.shape"
   ]
  },
  {
   "cell_type": "code",
   "execution_count": 6,
   "id": "2e7fd361",
   "metadata": {},
   "outputs": [
    {
     "name": "stdout",
     "output_type": "stream",
     "text": [
      "<class 'pandas.core.frame.DataFrame'>\n",
      "RangeIndex: 6819 entries, 0 to 6818\n",
      "Data columns (total 96 columns):\n",
      " #   Column                                                    Non-Null Count  Dtype  \n",
      "---  ------                                                    --------------  -----  \n",
      " 0   Bankrupt?                                                 6819 non-null   int64  \n",
      " 1    ROA(C) before interest and depreciation before interest  6819 non-null   float64\n",
      " 2    ROA(A) before interest and % after tax                   6819 non-null   float64\n",
      " 3    ROA(B) before interest and depreciation after tax        6819 non-null   float64\n",
      " 4    Operating Gross Margin                                   6819 non-null   float64\n",
      " 5    Realized Sales Gross Margin                              6819 non-null   float64\n",
      " 6    Operating Profit Rate                                    6819 non-null   float64\n",
      " 7    Pre-tax net Interest Rate                                6819 non-null   float64\n",
      " 8    After-tax net Interest Rate                              6819 non-null   float64\n",
      " 9    Non-industry income and expenditure/revenue              6819 non-null   float64\n",
      " 10   Continuous interest rate (after tax)                     6819 non-null   float64\n",
      " 11   Operating Expense Rate                                   6819 non-null   float64\n",
      " 12   Research and development expense rate                    6819 non-null   float64\n",
      " 13   Cash flow rate                                           6819 non-null   float64\n",
      " 14   Interest-bearing debt interest rate                      6819 non-null   float64\n",
      " 15   Tax rate (A)                                             6819 non-null   float64\n",
      " 16   Net Value Per Share (B)                                  6819 non-null   float64\n",
      " 17   Net Value Per Share (A)                                  6819 non-null   float64\n",
      " 18   Net Value Per Share (C)                                  6819 non-null   float64\n",
      " 19   Persistent EPS in the Last Four Seasons                  6819 non-null   float64\n",
      " 20   Cash Flow Per Share                                      6819 non-null   float64\n",
      " 21   Revenue Per Share (Yuan ¥)                               6819 non-null   float64\n",
      " 22   Operating Profit Per Share (Yuan ¥)                      6819 non-null   float64\n",
      " 23   Per Share Net profit before tax (Yuan ¥)                 6819 non-null   float64\n",
      " 24   Realized Sales Gross Profit Growth Rate                  6819 non-null   float64\n",
      " 25   Operating Profit Growth Rate                             6819 non-null   float64\n",
      " 26   After-tax Net Profit Growth Rate                         6819 non-null   float64\n",
      " 27   Regular Net Profit Growth Rate                           6819 non-null   float64\n",
      " 28   Continuous Net Profit Growth Rate                        6819 non-null   float64\n",
      " 29   Total Asset Growth Rate                                  6819 non-null   float64\n",
      " 30   Net Value Growth Rate                                    6819 non-null   float64\n",
      " 31   Total Asset Return Growth Rate Ratio                     6819 non-null   float64\n",
      " 32   Cash Reinvestment %                                      6819 non-null   float64\n",
      " 33   Current Ratio                                            6819 non-null   float64\n",
      " 34   Quick Ratio                                              6819 non-null   float64\n",
      " 35   Interest Expense Ratio                                   6819 non-null   float64\n",
      " 36   Total debt/Total net worth                               6819 non-null   float64\n",
      " 37   Debt ratio %                                             6819 non-null   float64\n",
      " 38   Net worth/Assets                                         6819 non-null   float64\n",
      " 39   Long-term fund suitability ratio (A)                     6819 non-null   float64\n",
      " 40   Borrowing dependency                                     6819 non-null   float64\n",
      " 41   Contingent liabilities/Net worth                         6819 non-null   float64\n",
      " 42   Operating profit/Paid-in capital                         6819 non-null   float64\n",
      " 43   Net profit before tax/Paid-in capital                    6819 non-null   float64\n",
      " 44   Inventory and accounts receivable/Net value              6819 non-null   float64\n",
      " 45   Total Asset Turnover                                     6819 non-null   float64\n",
      " 46   Accounts Receivable Turnover                             6819 non-null   float64\n",
      " 47   Average Collection Days                                  6819 non-null   float64\n",
      " 48   Inventory Turnover Rate (times)                          6819 non-null   float64\n",
      " 49   Fixed Assets Turnover Frequency                          6819 non-null   float64\n",
      " 50   Net Worth Turnover Rate (times)                          6819 non-null   float64\n",
      " 51   Revenue per person                                       6819 non-null   float64\n",
      " 52   Operating profit per person                              6819 non-null   float64\n",
      " 53   Allocation rate per person                               6819 non-null   float64\n",
      " 54   Working Capital to Total Assets                          6819 non-null   float64\n",
      " 55   Quick Assets/Total Assets                                6819 non-null   float64\n",
      " 56   Current Assets/Total Assets                              6819 non-null   float64\n",
      " 57   Cash/Total Assets                                        6819 non-null   float64\n",
      " 58   Quick Assets/Current Liability                           6819 non-null   float64\n",
      " 59   Cash/Current Liability                                   6819 non-null   float64\n",
      " 60   Current Liability to Assets                              6819 non-null   float64\n",
      " 61   Operating Funds to Liability                             6819 non-null   float64\n",
      " 62   Inventory/Working Capital                                6819 non-null   float64\n",
      " 63   Inventory/Current Liability                              6819 non-null   float64\n",
      " 64   Current Liabilities/Liability                            6819 non-null   float64\n",
      " 65   Working Capital/Equity                                   6819 non-null   float64\n",
      " 66   Current Liabilities/Equity                               6819 non-null   float64\n",
      " 67   Long-term Liability to Current Assets                    6819 non-null   float64\n",
      " 68   Retained Earnings to Total Assets                        6819 non-null   float64\n",
      " 69   Total income/Total expense                               6819 non-null   float64\n",
      " 70   Total expense/Assets                                     6819 non-null   float64\n",
      " 71   Current Asset Turnover Rate                              6819 non-null   float64\n",
      " 72   Quick Asset Turnover Rate                                6819 non-null   float64\n",
      " 73   Working capitcal Turnover Rate                           6819 non-null   float64\n",
      " 74   Cash Turnover Rate                                       6819 non-null   float64\n",
      " 75   Cash Flow to Sales                                       6819 non-null   float64\n",
      " 76   Fixed Assets to Assets                                   6819 non-null   float64\n",
      " 77   Current Liability to Liability                           6819 non-null   float64\n",
      " 78   Current Liability to Equity                              6819 non-null   float64\n",
      " 79   Equity to Long-term Liability                            6819 non-null   float64\n",
      " 80   Cash Flow to Total Assets                                6819 non-null   float64\n",
      " 81   Cash Flow to Liability                                   6819 non-null   float64\n",
      " 82   CFO to Assets                                            6819 non-null   float64\n",
      " 83   Cash Flow to Equity                                      6819 non-null   float64\n",
      " 84   Current Liability to Current Assets                      6819 non-null   float64\n",
      " 85   Liability-Assets Flag                                    6819 non-null   int64  \n",
      " 86   Net Income to Total Assets                               6819 non-null   float64\n",
      " 87   Total assets to GNP price                                6819 non-null   float64\n",
      " 88   No-credit Interval                                       6819 non-null   float64\n",
      " 89   Gross Profit to Sales                                    6819 non-null   float64\n",
      " 90   Net Income to Stockholder's Equity                       6819 non-null   float64\n",
      " 91   Liability to Equity                                      6819 non-null   float64\n",
      " 92   Degree of Financial Leverage (DFL)                       6819 non-null   float64\n",
      " 93   Interest Coverage Ratio (Interest expense to EBIT)       6819 non-null   float64\n",
      " 94   Net Income Flag                                          6819 non-null   int64  \n",
      " 95   Equity to Liability                                      6819 non-null   float64\n",
      "dtypes: float64(93), int64(3)\n",
      "memory usage: 5.0 MB\n"
     ]
    }
   ],
   "source": [
    "data.info()"
   ]
  },
  {
   "cell_type": "code",
   "execution_count": 7,
   "id": "e8103030",
   "metadata": {},
   "outputs": [
    {
     "data": {
      "text/html": [
       "<div>\n",
       "<style scoped>\n",
       "    .dataframe tbody tr th:only-of-type {\n",
       "        vertical-align: middle;\n",
       "    }\n",
       "\n",
       "    .dataframe tbody tr th {\n",
       "        vertical-align: top;\n",
       "    }\n",
       "\n",
       "    .dataframe thead th {\n",
       "        text-align: right;\n",
       "    }\n",
       "</style>\n",
       "<table border=\"1\" class=\"dataframe\">\n",
       "  <thead>\n",
       "    <tr style=\"text-align: right;\">\n",
       "      <th></th>\n",
       "      <th>Bankrupt?</th>\n",
       "      <th>ROA(C) before interest and depreciation before interest</th>\n",
       "      <th>ROA(A) before interest and % after tax</th>\n",
       "      <th>ROA(B) before interest and depreciation after tax</th>\n",
       "      <th>Operating Gross Margin</th>\n",
       "      <th>Realized Sales Gross Margin</th>\n",
       "      <th>Operating Profit Rate</th>\n",
       "      <th>Pre-tax net Interest Rate</th>\n",
       "      <th>After-tax net Interest Rate</th>\n",
       "      <th>Non-industry income and expenditure/revenue</th>\n",
       "      <th>...</th>\n",
       "      <th>Net Income to Total Assets</th>\n",
       "      <th>Total assets to GNP price</th>\n",
       "      <th>No-credit Interval</th>\n",
       "      <th>Gross Profit to Sales</th>\n",
       "      <th>Net Income to Stockholder's Equity</th>\n",
       "      <th>Liability to Equity</th>\n",
       "      <th>Degree of Financial Leverage (DFL)</th>\n",
       "      <th>Interest Coverage Ratio (Interest expense to EBIT)</th>\n",
       "      <th>Net Income Flag</th>\n",
       "      <th>Equity to Liability</th>\n",
       "    </tr>\n",
       "  </thead>\n",
       "  <tbody>\n",
       "    <tr>\n",
       "      <th>count</th>\n",
       "      <td>6819.000000</td>\n",
       "      <td>6819.000000</td>\n",
       "      <td>6819.000000</td>\n",
       "      <td>6819.000000</td>\n",
       "      <td>6819.000000</td>\n",
       "      <td>6819.000000</td>\n",
       "      <td>6819.000000</td>\n",
       "      <td>6819.000000</td>\n",
       "      <td>6819.000000</td>\n",
       "      <td>6819.000000</td>\n",
       "      <td>...</td>\n",
       "      <td>6819.000000</td>\n",
       "      <td>6.819000e+03</td>\n",
       "      <td>6819.000000</td>\n",
       "      <td>6819.000000</td>\n",
       "      <td>6819.000000</td>\n",
       "      <td>6819.000000</td>\n",
       "      <td>6819.000000</td>\n",
       "      <td>6819.000000</td>\n",
       "      <td>6819.0</td>\n",
       "      <td>6819.000000</td>\n",
       "    </tr>\n",
       "    <tr>\n",
       "      <th>mean</th>\n",
       "      <td>0.032263</td>\n",
       "      <td>0.505180</td>\n",
       "      <td>0.558625</td>\n",
       "      <td>0.553589</td>\n",
       "      <td>0.607948</td>\n",
       "      <td>0.607929</td>\n",
       "      <td>0.998755</td>\n",
       "      <td>0.797190</td>\n",
       "      <td>0.809084</td>\n",
       "      <td>0.303623</td>\n",
       "      <td>...</td>\n",
       "      <td>0.807760</td>\n",
       "      <td>1.862942e+07</td>\n",
       "      <td>0.623915</td>\n",
       "      <td>0.607946</td>\n",
       "      <td>0.840402</td>\n",
       "      <td>0.280365</td>\n",
       "      <td>0.027541</td>\n",
       "      <td>0.565358</td>\n",
       "      <td>1.0</td>\n",
       "      <td>0.047578</td>\n",
       "    </tr>\n",
       "    <tr>\n",
       "      <th>std</th>\n",
       "      <td>0.176710</td>\n",
       "      <td>0.060686</td>\n",
       "      <td>0.065620</td>\n",
       "      <td>0.061595</td>\n",
       "      <td>0.016934</td>\n",
       "      <td>0.016916</td>\n",
       "      <td>0.013010</td>\n",
       "      <td>0.012869</td>\n",
       "      <td>0.013601</td>\n",
       "      <td>0.011163</td>\n",
       "      <td>...</td>\n",
       "      <td>0.040332</td>\n",
       "      <td>3.764501e+08</td>\n",
       "      <td>0.012290</td>\n",
       "      <td>0.016934</td>\n",
       "      <td>0.014523</td>\n",
       "      <td>0.014463</td>\n",
       "      <td>0.015668</td>\n",
       "      <td>0.013214</td>\n",
       "      <td>0.0</td>\n",
       "      <td>0.050014</td>\n",
       "    </tr>\n",
       "    <tr>\n",
       "      <th>min</th>\n",
       "      <td>0.000000</td>\n",
       "      <td>0.000000</td>\n",
       "      <td>0.000000</td>\n",
       "      <td>0.000000</td>\n",
       "      <td>0.000000</td>\n",
       "      <td>0.000000</td>\n",
       "      <td>0.000000</td>\n",
       "      <td>0.000000</td>\n",
       "      <td>0.000000</td>\n",
       "      <td>0.000000</td>\n",
       "      <td>...</td>\n",
       "      <td>0.000000</td>\n",
       "      <td>0.000000e+00</td>\n",
       "      <td>0.000000</td>\n",
       "      <td>0.000000</td>\n",
       "      <td>0.000000</td>\n",
       "      <td>0.000000</td>\n",
       "      <td>0.000000</td>\n",
       "      <td>0.000000</td>\n",
       "      <td>1.0</td>\n",
       "      <td>0.000000</td>\n",
       "    </tr>\n",
       "    <tr>\n",
       "      <th>25%</th>\n",
       "      <td>0.000000</td>\n",
       "      <td>0.476527</td>\n",
       "      <td>0.535543</td>\n",
       "      <td>0.527277</td>\n",
       "      <td>0.600445</td>\n",
       "      <td>0.600434</td>\n",
       "      <td>0.998969</td>\n",
       "      <td>0.797386</td>\n",
       "      <td>0.809312</td>\n",
       "      <td>0.303466</td>\n",
       "      <td>...</td>\n",
       "      <td>0.796750</td>\n",
       "      <td>9.036205e-04</td>\n",
       "      <td>0.623636</td>\n",
       "      <td>0.600443</td>\n",
       "      <td>0.840115</td>\n",
       "      <td>0.276944</td>\n",
       "      <td>0.026791</td>\n",
       "      <td>0.565158</td>\n",
       "      <td>1.0</td>\n",
       "      <td>0.024477</td>\n",
       "    </tr>\n",
       "    <tr>\n",
       "      <th>50%</th>\n",
       "      <td>0.000000</td>\n",
       "      <td>0.502706</td>\n",
       "      <td>0.559802</td>\n",
       "      <td>0.552278</td>\n",
       "      <td>0.605997</td>\n",
       "      <td>0.605976</td>\n",
       "      <td>0.999022</td>\n",
       "      <td>0.797464</td>\n",
       "      <td>0.809375</td>\n",
       "      <td>0.303525</td>\n",
       "      <td>...</td>\n",
       "      <td>0.810619</td>\n",
       "      <td>2.085213e-03</td>\n",
       "      <td>0.623879</td>\n",
       "      <td>0.605998</td>\n",
       "      <td>0.841179</td>\n",
       "      <td>0.278778</td>\n",
       "      <td>0.026808</td>\n",
       "      <td>0.565252</td>\n",
       "      <td>1.0</td>\n",
       "      <td>0.033798</td>\n",
       "    </tr>\n",
       "    <tr>\n",
       "      <th>75%</th>\n",
       "      <td>0.000000</td>\n",
       "      <td>0.535563</td>\n",
       "      <td>0.589157</td>\n",
       "      <td>0.584105</td>\n",
       "      <td>0.613914</td>\n",
       "      <td>0.613842</td>\n",
       "      <td>0.999095</td>\n",
       "      <td>0.797579</td>\n",
       "      <td>0.809469</td>\n",
       "      <td>0.303585</td>\n",
       "      <td>...</td>\n",
       "      <td>0.826455</td>\n",
       "      <td>5.269777e-03</td>\n",
       "      <td>0.624168</td>\n",
       "      <td>0.613913</td>\n",
       "      <td>0.842357</td>\n",
       "      <td>0.281449</td>\n",
       "      <td>0.026913</td>\n",
       "      <td>0.565725</td>\n",
       "      <td>1.0</td>\n",
       "      <td>0.052838</td>\n",
       "    </tr>\n",
       "    <tr>\n",
       "      <th>max</th>\n",
       "      <td>1.000000</td>\n",
       "      <td>1.000000</td>\n",
       "      <td>1.000000</td>\n",
       "      <td>1.000000</td>\n",
       "      <td>1.000000</td>\n",
       "      <td>1.000000</td>\n",
       "      <td>1.000000</td>\n",
       "      <td>1.000000</td>\n",
       "      <td>1.000000</td>\n",
       "      <td>1.000000</td>\n",
       "      <td>...</td>\n",
       "      <td>1.000000</td>\n",
       "      <td>9.820000e+09</td>\n",
       "      <td>1.000000</td>\n",
       "      <td>1.000000</td>\n",
       "      <td>1.000000</td>\n",
       "      <td>1.000000</td>\n",
       "      <td>1.000000</td>\n",
       "      <td>1.000000</td>\n",
       "      <td>1.0</td>\n",
       "      <td>1.000000</td>\n",
       "    </tr>\n",
       "  </tbody>\n",
       "</table>\n",
       "<p>8 rows × 96 columns</p>\n",
       "</div>"
      ],
      "text/plain": [
       "         Bankrupt?   ROA(C) before interest and depreciation before interest  \\\n",
       "count  6819.000000                                        6819.000000          \n",
       "mean      0.032263                                           0.505180          \n",
       "std       0.176710                                           0.060686          \n",
       "min       0.000000                                           0.000000          \n",
       "25%       0.000000                                           0.476527          \n",
       "50%       0.000000                                           0.502706          \n",
       "75%       0.000000                                           0.535563          \n",
       "max       1.000000                                           1.000000          \n",
       "\n",
       "        ROA(A) before interest and % after tax  \\\n",
       "count                              6819.000000   \n",
       "mean                                  0.558625   \n",
       "std                                   0.065620   \n",
       "min                                   0.000000   \n",
       "25%                                   0.535543   \n",
       "50%                                   0.559802   \n",
       "75%                                   0.589157   \n",
       "max                                   1.000000   \n",
       "\n",
       "        ROA(B) before interest and depreciation after tax  \\\n",
       "count                                        6819.000000    \n",
       "mean                                            0.553589    \n",
       "std                                             0.061595    \n",
       "min                                             0.000000    \n",
       "25%                                             0.527277    \n",
       "50%                                             0.552278    \n",
       "75%                                             0.584105    \n",
       "max                                             1.000000    \n",
       "\n",
       "        Operating Gross Margin   Realized Sales Gross Margin  \\\n",
       "count              6819.000000                   6819.000000   \n",
       "mean                  0.607948                      0.607929   \n",
       "std                   0.016934                      0.016916   \n",
       "min                   0.000000                      0.000000   \n",
       "25%                   0.600445                      0.600434   \n",
       "50%                   0.605997                      0.605976   \n",
       "75%                   0.613914                      0.613842   \n",
       "max                   1.000000                      1.000000   \n",
       "\n",
       "        Operating Profit Rate   Pre-tax net Interest Rate  \\\n",
       "count             6819.000000                 6819.000000   \n",
       "mean                 0.998755                    0.797190   \n",
       "std                  0.013010                    0.012869   \n",
       "min                  0.000000                    0.000000   \n",
       "25%                  0.998969                    0.797386   \n",
       "50%                  0.999022                    0.797464   \n",
       "75%                  0.999095                    0.797579   \n",
       "max                  1.000000                    1.000000   \n",
       "\n",
       "        After-tax net Interest Rate  \\\n",
       "count                   6819.000000   \n",
       "mean                       0.809084   \n",
       "std                        0.013601   \n",
       "min                        0.000000   \n",
       "25%                        0.809312   \n",
       "50%                        0.809375   \n",
       "75%                        0.809469   \n",
       "max                        1.000000   \n",
       "\n",
       "        Non-industry income and expenditure/revenue  ...  \\\n",
       "count                                   6819.000000  ...   \n",
       "mean                                       0.303623  ...   \n",
       "std                                        0.011163  ...   \n",
       "min                                        0.000000  ...   \n",
       "25%                                        0.303466  ...   \n",
       "50%                                        0.303525  ...   \n",
       "75%                                        0.303585  ...   \n",
       "max                                        1.000000  ...   \n",
       "\n",
       "        Net Income to Total Assets   Total assets to GNP price  \\\n",
       "count                  6819.000000                6.819000e+03   \n",
       "mean                      0.807760                1.862942e+07   \n",
       "std                       0.040332                3.764501e+08   \n",
       "min                       0.000000                0.000000e+00   \n",
       "25%                       0.796750                9.036205e-04   \n",
       "50%                       0.810619                2.085213e-03   \n",
       "75%                       0.826455                5.269777e-03   \n",
       "max                       1.000000                9.820000e+09   \n",
       "\n",
       "        No-credit Interval   Gross Profit to Sales  \\\n",
       "count          6819.000000             6819.000000   \n",
       "mean              0.623915                0.607946   \n",
       "std               0.012290                0.016934   \n",
       "min               0.000000                0.000000   \n",
       "25%               0.623636                0.600443   \n",
       "50%               0.623879                0.605998   \n",
       "75%               0.624168                0.613913   \n",
       "max               1.000000                1.000000   \n",
       "\n",
       "        Net Income to Stockholder's Equity   Liability to Equity  \\\n",
       "count                          6819.000000           6819.000000   \n",
       "mean                              0.840402              0.280365   \n",
       "std                               0.014523              0.014463   \n",
       "min                               0.000000              0.000000   \n",
       "25%                               0.840115              0.276944   \n",
       "50%                               0.841179              0.278778   \n",
       "75%                               0.842357              0.281449   \n",
       "max                               1.000000              1.000000   \n",
       "\n",
       "        Degree of Financial Leverage (DFL)  \\\n",
       "count                          6819.000000   \n",
       "mean                              0.027541   \n",
       "std                               0.015668   \n",
       "min                               0.000000   \n",
       "25%                               0.026791   \n",
       "50%                               0.026808   \n",
       "75%                               0.026913   \n",
       "max                               1.000000   \n",
       "\n",
       "        Interest Coverage Ratio (Interest expense to EBIT)   Net Income Flag  \\\n",
       "count                                        6819.000000              6819.0   \n",
       "mean                                            0.565358                 1.0   \n",
       "std                                             0.013214                 0.0   \n",
       "min                                             0.000000                 1.0   \n",
       "25%                                             0.565158                 1.0   \n",
       "50%                                             0.565252                 1.0   \n",
       "75%                                             0.565725                 1.0   \n",
       "max                                             1.000000                 1.0   \n",
       "\n",
       "        Equity to Liability  \n",
       "count           6819.000000  \n",
       "mean               0.047578  \n",
       "std                0.050014  \n",
       "min                0.000000  \n",
       "25%                0.024477  \n",
       "50%                0.033798  \n",
       "75%                0.052838  \n",
       "max                1.000000  \n",
       "\n",
       "[8 rows x 96 columns]"
      ]
     },
     "execution_count": 7,
     "metadata": {},
     "output_type": "execute_result"
    }
   ],
   "source": [
    "# For descriptive statistics\n",
    "data.describe()"
   ]
  },
  {
   "cell_type": "code",
   "execution_count": 8,
   "id": "13adf1c3",
   "metadata": {},
   "outputs": [
    {
     "data": {
      "text/plain": [
       "0"
      ]
     },
     "execution_count": 8,
     "metadata": {},
     "output_type": "execute_result"
    }
   ],
   "source": [
    "# To check whether data have duplicacy or not\n",
    "data.duplicated().sum()"
   ]
  },
  {
   "cell_type": "markdown",
   "id": "873b9ef6",
   "metadata": {},
   "source": [
    "Data Cleaning"
   ]
  },
  {
   "cell_type": "code",
   "execution_count": 9,
   "id": "c20d5fc2",
   "metadata": {},
   "outputs": [
    {
     "data": {
      "text/plain": [
       "Bankrupt?                                                   False\n",
       " ROA(C) before interest and depreciation before interest    False\n",
       " ROA(A) before interest and % after tax                     False\n",
       " ROA(B) before interest and depreciation after tax          False\n",
       " Operating Gross Margin                                     False\n",
       "                                                            ...  \n",
       " Liability to Equity                                        False\n",
       " Degree of Financial Leverage (DFL)                         False\n",
       " Interest Coverage Ratio (Interest expense to EBIT)         False\n",
       " Net Income Flag                                            False\n",
       " Equity to Liability                                        False\n",
       "Length: 96, dtype: bool"
      ]
     },
     "execution_count": 9,
     "metadata": {},
     "output_type": "execute_result"
    }
   ],
   "source": [
    "# Data cleaning\n",
    "data.isna().any()"
   ]
  },
  {
   "cell_type": "markdown",
   "id": "36327ae1",
   "metadata": {},
   "source": [
    "Exploratory Analysis"
   ]
  },
  {
   "cell_type": "code",
   "execution_count": 10,
   "id": "96809727",
   "metadata": {},
   "outputs": [
    {
     "data": {
      "text/plain": [
       "0    6599\n",
       "1     220\n",
       "Name: Bankrupt?, dtype: int64"
      ]
     },
     "execution_count": 10,
     "metadata": {},
     "output_type": "execute_result"
    }
   ],
   "source": [
    "# Checking the target columns value\n",
    "data['Bankrupt?'].value_counts()"
   ]
  },
  {
   "cell_type": "code",
   "execution_count": 11,
   "id": "1baa7781",
   "metadata": {},
   "outputs": [
    {
     "data": {
      "image/png": "[encoded data removed]",
      "text/plain": [
       "<Figure size 432x288 with 1 Axes>"
      ]
     },
     "metadata": {
      "needs_background": "light"
     },
     "output_type": "display_data"
    }
   ],
   "source": [
    "plt.figure()\n",
    "sns.countplot(x = 'Bankrupt?',data = data )\n",
    "plt.title('Bankrupt')\n",
    "plt.show()"
   ]
  },
  {
   "cell_type": "code",
   "execution_count": 12,
   "id": "e926e9c5",
   "metadata": {},
   "outputs": [
    {
     "data": {
      "image/png": "[encoded data removed]",
      "text/plain": [
       "<Figure size 432x288 with 1 Axes>"
      ]
     },
     "metadata": {
      "needs_background": "light"
     },
     "output_type": "display_data"
    }
   ],
   "source": [
    "plt.hist(x='Bankrupt?',data=data)\n",
    "plt.show()"
   ]
  },
  {
   "cell_type": "code",
   "execution_count": 13,
   "id": "cede6288",
   "metadata": {},
   "outputs": [
    {
     "data": {
      "text/plain": [
       "<AxesSubplot:xlabel='Bankrupt?', ylabel=' Liability to Equity'>"
      ]
     },
     "execution_count": 13,
     "metadata": {},
     "output_type": "execute_result"
    },
    {
     "data": {
      "image/png": "[encoded data removed]",
      "text/plain": [
       "<Figure size 432x288 with 1 Axes>"
      ]
     },
     "metadata": {
      "needs_background": "light"
     },
     "output_type": "display_data"
    }
   ],
   "source": [
    "sns.regplot(x='Bankrupt?',y=' Liability to Equity',data=data)"
   ]
  },
  {
   "cell_type": "code",
   "execution_count": 14,
   "id": "100ce32a",
   "metadata": {},
   "outputs": [
    {
     "data": {
      "text/plain": [
       "<seaborn.axisgrid.FacetGrid at 0x222ade78820>"
      ]
     },
     "execution_count": 14,
     "metadata": {},
     "output_type": "execute_result"
    },
    {
     "data": {
      "image/png": "[encoded data removed]",
      "text/plain": [
       "<Figure size 360x360 with 1 Axes>"
      ]
     },
     "metadata": {
      "needs_background": "light"
     },
     "output_type": "display_data"
    }
   ],
   "source": [
    "sns.relplot(data=data,x='Bankrupt?',y=' Liability to Equity')"
   ]
  },
  {
   "cell_type": "code",
   "execution_count": 15,
   "id": "fa57ce6b",
   "metadata": {},
   "outputs": [],
   "source": [
    "#sns.pairplot(data)"
   ]
  },
  {
   "cell_type": "markdown",
   "id": "d11e2222",
   "metadata": {},
   "source": [
    "Predictive Modelling  Using Logistic Regression"
   ]
  },
  {
   "cell_type": "code",
   "execution_count": 16,
   "id": "3dea784a",
   "metadata": {},
   "outputs": [],
   "source": [
    "from sklearn.model_selection import train_test_split"
   ]
  },
  {
   "cell_type": "code",
   "execution_count": 17,
   "id": "62d96964",
   "metadata": {},
   "outputs": [],
   "source": [
    "x_train, x_test, y_train, y_test = train_test_split(\n",
    "    data.drop(labels=['Bankrupt?'], axis=1),\n",
    "    data['Bankrupt?'],\n",
    "    test_size=0.2,\n",
    "    random_state=0)"
   ]
  },
  {
   "cell_type": "code",
   "execution_count": 18,
   "id": "ea49e0d6",
   "metadata": {},
   "outputs": [],
   "source": [
    "from sklearn.preprocessing import StandardScaler"
   ]
  },
  {
   "cell_type": "code",
   "execution_count": 19,
   "id": "56195f5c",
   "metadata": {},
   "outputs": [],
   "source": [
    "st= StandardScaler()\n",
    "x_train =st.fit_transform(x_train)\n",
    "x_test = st.fit_transform(x_test)"
   ]
  },
  {
   "cell_type": "code",
   "execution_count": 20,
   "id": "f69e2bed",
   "metadata": {},
   "outputs": [
    {
     "name": "stderr",
     "output_type": "stream",
     "text": [
      "E:\\anaconda\\lib\\site-packages\\sklearn\\linear_model\\_logistic.py:763: ConvergenceWarning: lbfgs failed to converge (status=1):\n",
      "STOP: TOTAL NO. of ITERATIONS REACHED LIMIT.\n",
      "\n",
      "Increase the number of iterations (max_iter) or scale the data as shown in:\n",
      "    https://scikit-learn.org/stable/modules/preprocessing.html\n",
      "Please also refer to the documentation for alternative solver options:\n",
      "    https://scikit-learn.org/stable/modules/linear_model.html#logistic-regression\n",
      "  n_iter_i = _check_optimize_result(\n"
     ]
    },
    {
     "data": {
      "text/plain": [
       "LogisticRegression()"
      ]
     },
     "execution_count": 20,
     "metadata": {},
     "output_type": "execute_result"
    }
   ],
   "source": [
    "from sklearn.linear_model import LogisticRegression\n",
    "model = LogisticRegression()\n",
    "model.fit(x_train, y_train)"
   ]
  },
  {
   "cell_type": "code",
   "execution_count": 21,
   "id": "054e96c0",
   "metadata": {},
   "outputs": [],
   "source": [
    "y_pred= model.predict(x_test)"
   ]
  },
  {
   "cell_type": "code",
   "execution_count": 22,
   "id": "c8542fb1",
   "metadata": {},
   "outputs": [
    {
     "data": {
      "text/plain": [
       "(5455,)"
      ]
     },
     "execution_count": 22,
     "metadata": {},
     "output_type": "execute_result"
    }
   ],
   "source": [
    "y_train.shape"
   ]
  },
  {
   "cell_type": "code",
   "execution_count": 23,
   "id": "05ed1def",
   "metadata": {},
   "outputs": [
    {
     "name": "stdout",
     "output_type": "stream",
     "text": [
      "[[1314    4]\n",
      " [  42    4]]\n"
     ]
    }
   ],
   "source": [
    "from sklearn.metrics  import confusion_matrix\n",
    "cm =confusion_matrix(y_test,y_pred)\n",
    "print(cm)"
   ]
  },
  {
   "cell_type": "code",
   "execution_count": 24,
   "id": "2d556c94",
   "metadata": {},
   "outputs": [
    {
     "data": {
      "image/png": "[encoded data removed]",
      "text/plain": [
       "<Figure size 432x288 with 2 Axes>"
      ]
     },
     "metadata": {
      "needs_background": "light"
     },
     "output_type": "display_data"
    }
   ],
   "source": [
    "import seaborn as  sns\n",
    "ax = sns.heatmap(cm,annot=True)"
   ]
  },
  {
   "cell_type": "code",
   "execution_count": 25,
   "id": "a5c39643",
   "metadata": {},
   "outputs": [
    {
     "name": "stdout",
     "output_type": "stream",
     "text": [
      "              precision    recall  f1-score   support\n",
      "\n",
      " No Bankrupt       0.97      1.00      0.98      1318\n",
      "    Bankrupt       0.50      0.09      0.15        46\n",
      "\n",
      "    accuracy                           0.97      1364\n",
      "   macro avg       0.73      0.54      0.57      1364\n",
      "weighted avg       0.95      0.97      0.95      1364\n",
      "\n"
     ]
    }
   ],
   "source": [
    "from sklearn.metrics import classification_report\n",
    "target= ['No Bankrupt','Bankrupt']\n",
    "print(classification_report(y_test,y_pred,target_names =target))"
   ]
  },
  {
   "cell_type": "code",
   "execution_count": 26,
   "id": "8618fb54",
   "metadata": {},
   "outputs": [],
   "source": [
    "y_pred_prob = model.predict_proba(x_test)[::,1]"
   ]
  },
  {
   "cell_type": "code",
   "execution_count": 27,
   "id": "1e3dd1a9",
   "metadata": {},
   "outputs": [],
   "source": [
    "from sklearn import metrics"
   ]
  },
  {
   "cell_type": "code",
   "execution_count": 28,
   "id": "cdb9d887",
   "metadata": {},
   "outputs": [
    {
     "data": {
      "text/plain": [
       "Text(0.5, 1.0, 'ROC')"
      ]
     },
     "execution_count": 28,
     "metadata": {},
     "output_type": "execute_result"
    },
    {
     "data": {
      "image/png": "[encoded data removed]",
      "text/plain": [
       "<Figure size 432x288 with 1 Axes>"
      ]
     },
     "metadata": {
      "needs_background": "light"
     },
     "output_type": "display_data"
    }
   ],
   "source": [
    "fpr, tpr, th = metrics.roc_curve(y_test, y_pred_prob)\n",
    "auc = metrics.roc_auc_score(y_test,y_pred_prob)\n",
    "plt.plot(fpr,tpr)\n",
    "plt.xlabel('False Positive Rate')\n",
    "plt.ylabel('True Positive Rate')\n",
    "plt.title('ROC')"
   ]
  },
  {
   "cell_type": "code",
   "execution_count": 29,
   "id": "7dfd8961",
   "metadata": {},
   "outputs": [
    {
     "name": "stdout",
     "output_type": "stream",
     "text": [
      "Area under the curve is 0.8023685425875832\n"
     ]
    }
   ],
   "source": [
    "print('Area under the curve is',auc)"
   ]
  },
  {
   "cell_type": "code",
   "execution_count": 30,
   "id": "9046eeb2",
   "metadata": {},
   "outputs": [
    {
     "name": "stdout",
     "output_type": "stream",
     "text": [
      "Accuracy score for Logistic Regression Model: 96.63 %\n"
     ]
    }
   ],
   "source": [
    "from sklearn.metrics import accuracy_score\n",
    "acc1 = accuracy_score(y_test, y_pred)\n",
    "print(\"Accuracy score for Logistic Regression Model: {:.2f} %\".format(acc1*100))"
   ]
  },
  {
   "cell_type": "code",
   "execution_count": 31,
   "id": "f8a7906d",
   "metadata": {},
   "outputs": [
    {
     "name": "stderr",
     "output_type": "stream",
     "text": [
      "E:\\anaconda\\lib\\site-packages\\sklearn\\linear_model\\_logistic.py:763: ConvergenceWarning: lbfgs failed to converge (status=1):\n",
      "STOP: TOTAL NO. of ITERATIONS REACHED LIMIT.\n",
      "\n",
      "Increase the number of iterations (max_iter) or scale the data as shown in:\n",
      "    https://scikit-learn.org/stable/modules/preprocessing.html\n",
      "Please also refer to the documentation for alternative solver options:\n",
      "    https://scikit-learn.org/stable/modules/linear_model.html#logistic-regression\n",
      "  n_iter_i = _check_optimize_result(\n",
      "E:\\anaconda\\lib\\site-packages\\sklearn\\linear_model\\_logistic.py:763: ConvergenceWarning: lbfgs failed to converge (status=1):\n",
      "STOP: TOTAL NO. of ITERATIONS REACHED LIMIT.\n",
      "\n",
      "Increase the number of iterations (max_iter) or scale the data as shown in:\n",
      "    https://scikit-learn.org/stable/modules/preprocessing.html\n",
      "Please also refer to the documentation for alternative solver options:\n",
      "    https://scikit-learn.org/stable/modules/linear_model.html#logistic-regression\n",
      "  n_iter_i = _check_optimize_result(\n"
     ]
    },
    {
     "data": {
      "text/plain": [
       "LogisticRegression()"
      ]
     },
     "execution_count": 31,
     "metadata": {},
     "output_type": "execute_result"
    }
   ],
   "source": [
    "trained_model = model.fit(x_train,y_train)\n",
    "trained_model.fit(x_train,y_train)"
   ]
  },
  {
   "cell_type": "code",
   "execution_count": 32,
   "id": "73bb2623",
   "metadata": {},
   "outputs": [
    {
     "name": "stdout",
     "output_type": "stream",
     "text": [
      "Accuracy score of training for Logistic Regression Model: 97.20 %\n"
     ]
    }
   ],
   "source": [
    "from sklearn.metrics import accuracy_score\n",
    "acc2 = accuracy_score(y_train, trained_model.predict(x_train))\n",
    "print(\"Accuracy score of training for Logistic Regression Model: {:.2f} %\".format(acc2*100))"
   ]
  },
  {
   "cell_type": "markdown",
   "id": "1141d27c",
   "metadata": {},
   "source": [
    "# Support Vector Machine Algorithm "
   ]
  },
  {
   "cell_type": "code",
   "execution_count": 33,
   "id": "0ab41bc8",
   "metadata": {},
   "outputs": [],
   "source": [
    "from sklearn.svm import SVC"
   ]
  },
  {
   "cell_type": "code",
   "execution_count": 34,
   "id": "31315aa0",
   "metadata": {},
   "outputs": [
    {
     "data": {
      "text/plain": [
       "SVC(probability=True)"
      ]
     },
     "execution_count": 34,
     "metadata": {},
     "output_type": "execute_result"
    }
   ],
   "source": [
    "classifier = SVC(kernel = 'linear', random_state = 0)\n",
    "classifier = SVC(probability=True)\n",
    "classifier.fit(x_train, y_train)"
   ]
  },
  {
   "cell_type": "code",
   "execution_count": 35,
   "id": "37aaa715",
   "metadata": {},
   "outputs": [],
   "source": [
    "y_pred2=classifier.predict(x_test)"
   ]
  },
  {
   "cell_type": "code",
   "execution_count": 36,
   "id": "19791350",
   "metadata": {},
   "outputs": [
    {
     "data": {
      "text/plain": [
       "(1364,)"
      ]
     },
     "execution_count": 36,
     "metadata": {},
     "output_type": "execute_result"
    }
   ],
   "source": [
    "y_pred2.shape"
   ]
  },
  {
   "cell_type": "code",
   "execution_count": 37,
   "id": "8a30aa63",
   "metadata": {},
   "outputs": [
    {
     "name": "stdout",
     "output_type": "stream",
     "text": [
      "[[1318    0]\n",
      " [  45    1]]\n"
     ]
    }
   ],
   "source": [
    "from sklearn.metrics  import confusion_matrix\n",
    "cm2 =confusion_matrix(y_test,y_pred2)\n",
    "print(cm2)"
   ]
  },
  {
   "cell_type": "code",
   "execution_count": 38,
   "id": "dcd93d05",
   "metadata": {},
   "outputs": [
    {
     "data": {
      "image/png": "[encoded data removed]",
      "text/plain": [
       "<Figure size 432x288 with 2 Axes>"
      ]
     },
     "metadata": {
      "needs_background": "light"
     },
     "output_type": "display_data"
    }
   ],
   "source": [
    "ax = sns.heatmap(cm,annot=True)"
   ]
  },
  {
   "cell_type": "code",
   "execution_count": 39,
   "id": "5646b5d3",
   "metadata": {},
   "outputs": [
    {
     "name": "stdout",
     "output_type": "stream",
     "text": [
      "              precision    recall  f1-score   support\n",
      "\n",
      " No Bankrupt       0.97      1.00      0.98      1318\n",
      "    Bankrupt       1.00      0.02      0.04        46\n",
      "\n",
      "    accuracy                           0.97      1364\n",
      "   macro avg       0.98      0.51      0.51      1364\n",
      "weighted avg       0.97      0.97      0.95      1364\n",
      "\n"
     ]
    }
   ],
   "source": [
    "from sklearn.metrics import classification_report\n",
    "target= ['No Bankrupt','Bankrupt']\n",
    "print(classification_report(y_test,y_pred2,target_names =target))"
   ]
  },
  {
   "cell_type": "code",
   "execution_count": 40,
   "id": "e8440c4f",
   "metadata": {},
   "outputs": [],
   "source": [
    "from sklearn import metrics"
   ]
  },
  {
   "cell_type": "code",
   "execution_count": 41,
   "id": "52dc35cf",
   "metadata": {},
   "outputs": [],
   "source": [
    "y_pred2_prob = classifier.predict_proba(x_test)[::,1]"
   ]
  },
  {
   "cell_type": "code",
   "execution_count": 42,
   "id": "da223e71",
   "metadata": {},
   "outputs": [
    {
     "data": {
      "text/plain": [
       "Text(0.5, 1.0, 'ROC')"
      ]
     },
     "execution_count": 42,
     "metadata": {},
     "output_type": "execute_result"
    },
    {
     "data": {
      "image/png": "[encoded data removed]",
      "text/plain": [
       "<Figure size 432x288 with 1 Axes>"
      ]
     },
     "metadata": {
      "needs_background": "light"
     },
     "output_type": "display_data"
    }
   ],
   "source": [
    "fpr, tpr, th = metrics.roc_curve(y_test, y_pred2_prob)\n",
    "auc = metrics.roc_auc_score(y_test,y_pred2_prob)\n",
    "plt.plot(fpr,tpr)\n",
    "plt.xlabel('False Positive Rate')\n",
    "plt.ylabel('True Positive Rate')\n",
    "plt.title('ROC')"
   ]
  },
  {
   "cell_type": "code",
   "execution_count": 43,
   "id": "5cf33dac",
   "metadata": {},
   "outputs": [
    {
     "name": "stdout",
     "output_type": "stream",
     "text": [
      "Area under the curve is 0.8686003166853598\n"
     ]
    }
   ],
   "source": [
    "print('Area under the curve is',auc)"
   ]
  },
  {
   "cell_type": "code",
   "execution_count": 44,
   "id": "2082538d",
   "metadata": {},
   "outputs": [
    {
     "name": "stdout",
     "output_type": "stream",
     "text": [
      "Accuracy score for SVM  Model: 96.70 %\n"
     ]
    }
   ],
   "source": [
    "from sklearn.metrics import accuracy_score\n",
    "acc3 = accuracy_score(y_test, y_pred2)\n",
    "print(\"Accuracy score for SVM  Model: {:.2f} %\".format(acc3*100))"
   ]
  },
  {
   "cell_type": "code",
   "execution_count": 45,
   "id": "7900a4a9",
   "metadata": {},
   "outputs": [
    {
     "data": {
      "text/plain": [
       "SVC(probability=True)"
      ]
     },
     "execution_count": 45,
     "metadata": {},
     "output_type": "execute_result"
    }
   ],
   "source": [
    "trained_model2 = classifier.fit(x_train,y_train)\n",
    "trained_model2.fit(x_train,y_train)"
   ]
  },
  {
   "cell_type": "code",
   "execution_count": 46,
   "id": "b031a3dd",
   "metadata": {},
   "outputs": [
    {
     "name": "stdout",
     "output_type": "stream",
     "text": [
      "Accuracy score of training for SVM Model: 97.18 %\n"
     ]
    }
   ],
   "source": [
    "from sklearn.metrics import accuracy_score\n",
    "acc4 = accuracy_score(y_train, trained_model2.predict(x_train))\n",
    "print(\"Accuracy score of training for SVM Model: {:.2f} %\".format(acc4*100))"
   ]
  },
  {
   "cell_type": "code",
   "execution_count": null,
   "id": "65f587fc",
   "metadata": {},
   "outputs": [],
   "source": []
  },
  {
   "cell_type": "code",
   "execution_count": null,
   "id": "3eaa9521",
   "metadata": {},
   "outputs": [],
   "source": []
  }
 ],
 "metadata": {
  "kernelspec": {
   "display_name": "Python 3 (ipykernel)",
   "language": "python",
   "name": "python3"
  },
  "language_info": {
   "codemirror_mode": {
    "name": "ipython",
    "version": 3
   },
   "file_extension": ".py",
   "mimetype": "text/x-python",
   "name": "python",
   "nbconvert_exporter": "python",
   "pygments_lexer": "ipython3",
   "version": "3.9.7"
  }
 },
 "nbformat": 4,
 "nbformat_minor": 5
}
